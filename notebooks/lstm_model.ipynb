{
  "cells": [
    {
      "cell_type": "code",
      "execution_count": null,
      "id": "f4931116",
      "metadata": {
        "id": "f4931116"
      },
      "outputs": [],
      "source": [
        "import pandas as pd\n",
        "import torch\n",
        "import torch.nn as nn\n",
        "import torch.optim as optim\n",
        "from sklearn.model_selection import train_test_split\n",
        "from sklearn.preprocessing import LabelEncoder\n",
        "from sklearn.metrics import accuracy_score\n",
        "from torch.utils.data import DataLoader, Dataset\n",
        "from torch.nn.utils.rnn import pad_sequence\n",
        "from collections import Counter\n",
        "import matplotlib.pyplot as plt\n",
        "import re\n",
        "import string\n",
        "from nltk.corpus import stopwords\n",
        "import nltk\n",
        "from torch.nn.utils.rnn import pack_padded_sequence, pad_packed_sequence, pad_sequence"
      ]
    },
    {
      "cell_type": "code",
      "execution_count": null,
      "id": "0a954943",
      "metadata": {
        "id": "0a954943",
        "outputId": "4c40f91f-b464-4484-cb5d-ef1cdb6c4d7d"
      },
      "outputs": [
        {
          "data": {
            "text/html": [
              "<div>\n",
              "<style scoped>\n",
              "    .dataframe tbody tr th:only-of-type {\n",
              "        vertical-align: middle;\n",
              "    }\n",
              "\n",
              "    .dataframe tbody tr th {\n",
              "        vertical-align: top;\n",
              "    }\n",
              "\n",
              "    .dataframe thead th {\n",
              "        text-align: right;\n",
              "    }\n",
              "</style>\n",
              "<table border=\"1\" class=\"dataframe\">\n",
              "  <thead>\n",
              "    <tr style=\"text-align: right;\">\n",
              "      <th></th>\n",
              "      <th>CommentID</th>\n",
              "      <th>VideoID</th>\n",
              "      <th>VideoTitle</th>\n",
              "      <th>AuthorName</th>\n",
              "      <th>AuthorChannelID</th>\n",
              "      <th>CommentText</th>\n",
              "      <th>Sentiment</th>\n",
              "      <th>Likes</th>\n",
              "      <th>Replies</th>\n",
              "      <th>PublishedAt</th>\n",
              "      <th>CountryCode</th>\n",
              "      <th>CategoryID</th>\n",
              "    </tr>\n",
              "  </thead>\n",
              "  <tbody>\n",
              "    <tr>\n",
              "      <th>0</th>\n",
              "      <td>UgyRjrEdJIPrf68uND14AaABAg</td>\n",
              "      <td>mcY4M9gjtsI</td>\n",
              "      <td>They killed my friend.#tales #movie #shorts</td>\n",
              "      <td>@OneWhoWandered</td>\n",
              "      <td>UC_-UEXaBL1dqqUPGkDll49A</td>\n",
              "      <td>Anyone know what movie this is?</td>\n",
              "      <td>Neutral</td>\n",
              "      <td>0</td>\n",
              "      <td>2</td>\n",
              "      <td>2025-01-15 00:54:55</td>\n",
              "      <td>NZ</td>\n",
              "      <td>1</td>\n",
              "    </tr>\n",
              "    <tr>\n",
              "      <th>1</th>\n",
              "      <td>UgxXxEIySAwnMNw8D7N4AaABAg</td>\n",
              "      <td>2vuXcw9SZbA</td>\n",
              "      <td>Man Utd conceding first penalty at home in yea...</td>\n",
              "      <td>@chiefvon3068</td>\n",
              "      <td>UCZ1LcZESjYqzaQRhjdZJFwg</td>\n",
              "      <td>The fact they're holding each other back while...</td>\n",
              "      <td>Positive</td>\n",
              "      <td>0</td>\n",
              "      <td>0</td>\n",
              "      <td>2025-01-13 23:51:46</td>\n",
              "      <td>AU</td>\n",
              "      <td>17</td>\n",
              "    </tr>\n",
              "    <tr>\n",
              "      <th>2</th>\n",
              "      <td>UgxB0jh2Ur41mcXr5IB4AaABAg</td>\n",
              "      <td>papg2tsoFzg</td>\n",
              "      <td>Welcome to Javascript Course</td>\n",
              "      <td>@Abdulla-ip8qr</td>\n",
              "      <td>UCWBK35w5Swy1iF5xIbEyw3A</td>\n",
              "      <td>waiting next video will be?</td>\n",
              "      <td>Neutral</td>\n",
              "      <td>1</td>\n",
              "      <td>0</td>\n",
              "      <td>2020-07-06 13:18:16</td>\n",
              "      <td>IN</td>\n",
              "      <td>27</td>\n",
              "    </tr>\n",
              "    <tr>\n",
              "      <th>3</th>\n",
              "      <td>UgwMOh95MfK0GuXLLrF4AaABAg</td>\n",
              "      <td>31KTdfRH6nY</td>\n",
              "      <td>Building web applications in Java with Spring ...</td>\n",
              "      <td>@finnianthehuman</td>\n",
              "      <td>UCwQ2Z03nOcMxWozBb_Cv66w</td>\n",
              "      <td>Thanks for the great video.\\n\\nI don't underst...</td>\n",
              "      <td>Neutral</td>\n",
              "      <td>0</td>\n",
              "      <td>1</td>\n",
              "      <td>2024-09-18 12:04:12</td>\n",
              "      <td>US</td>\n",
              "      <td>27</td>\n",
              "    </tr>\n",
              "    <tr>\n",
              "      <th>4</th>\n",
              "      <td>UgxJuUe5ysG8OSbABAl4AaABAg</td>\n",
              "      <td>-hV6aeyPHPA</td>\n",
              "      <td>After a new engine her car dies on her way hom...</td>\n",
              "      <td>@ryoutubeplaylistb6137</td>\n",
              "      <td>UCTTcJ0tsAKQokmHB2qVb1qQ</td>\n",
              "      <td>Good person helping good people.\\nThis is how ...</td>\n",
              "      <td>Positive</td>\n",
              "      <td>3</td>\n",
              "      <td>1</td>\n",
              "      <td>2025-01-10 19:39:03</td>\n",
              "      <td>US</td>\n",
              "      <td>2</td>\n",
              "    </tr>\n",
              "  </tbody>\n",
              "</table>\n",
              "</div>"
            ],
            "text/plain": [
              "                    CommentID      VideoID  \\\n",
              "0  UgyRjrEdJIPrf68uND14AaABAg  mcY4M9gjtsI   \n",
              "1  UgxXxEIySAwnMNw8D7N4AaABAg  2vuXcw9SZbA   \n",
              "2  UgxB0jh2Ur41mcXr5IB4AaABAg  papg2tsoFzg   \n",
              "3  UgwMOh95MfK0GuXLLrF4AaABAg  31KTdfRH6nY   \n",
              "4  UgxJuUe5ysG8OSbABAl4AaABAg  -hV6aeyPHPA   \n",
              "\n",
              "                                          VideoTitle              AuthorName  \\\n",
              "0        They killed my friend.#tales #movie #shorts         @OneWhoWandered   \n",
              "1  Man Utd conceding first penalty at home in yea...           @chiefvon3068   \n",
              "2                       Welcome to Javascript Course          @Abdulla-ip8qr   \n",
              "3  Building web applications in Java with Spring ...        @finnianthehuman   \n",
              "4  After a new engine her car dies on her way hom...  @ryoutubeplaylistb6137   \n",
              "\n",
              "            AuthorChannelID  \\\n",
              "0  UC_-UEXaBL1dqqUPGkDll49A   \n",
              "1  UCZ1LcZESjYqzaQRhjdZJFwg   \n",
              "2  UCWBK35w5Swy1iF5xIbEyw3A   \n",
              "3  UCwQ2Z03nOcMxWozBb_Cv66w   \n",
              "4  UCTTcJ0tsAKQokmHB2qVb1qQ   \n",
              "\n",
              "                                         CommentText Sentiment  Likes  \\\n",
              "0                    Anyone know what movie this is?   Neutral      0   \n",
              "1  The fact they're holding each other back while...  Positive      0   \n",
              "2                        waiting next video will be?   Neutral      1   \n",
              "3  Thanks for the great video.\\n\\nI don't underst...   Neutral      0   \n",
              "4  Good person helping good people.\\nThis is how ...  Positive      3   \n",
              "\n",
              "   Replies          PublishedAt CountryCode  CategoryID  \n",
              "0        2  2025-01-15 00:54:55          NZ           1  \n",
              "1        0  2025-01-13 23:51:46          AU          17  \n",
              "2        0  2020-07-06 13:18:16          IN          27  \n",
              "3        1  2024-09-18 12:04:12          US          27  \n",
              "4        1  2025-01-10 19:39:03          US           2  "
            ]
          },
          "execution_count": 2,
          "metadata": {},
          "output_type": "execute_result"
        }
      ],
      "source": [
        "data = pd.read_csv('youtube_comments_cleaned.csv')\n",
        "data.head()"
      ]
    },
    {
      "cell_type": "code",
      "execution_count": null,
      "id": "5d86434f",
      "metadata": {
        "id": "5d86434f",
        "outputId": "47fec631-fe89-47b7-eba6-07108887603c"
      },
      "outputs": [
        {
          "data": {
            "text/html": [
              "<div>\n",
              "<style scoped>\n",
              "    .dataframe tbody tr th:only-of-type {\n",
              "        vertical-align: middle;\n",
              "    }\n",
              "\n",
              "    .dataframe tbody tr th {\n",
              "        vertical-align: top;\n",
              "    }\n",
              "\n",
              "    .dataframe thead th {\n",
              "        text-align: right;\n",
              "    }\n",
              "</style>\n",
              "<table border=\"1\" class=\"dataframe\">\n",
              "  <thead>\n",
              "    <tr style=\"text-align: right;\">\n",
              "      <th></th>\n",
              "      <th>CommentText</th>\n",
              "      <th>Sentiment</th>\n",
              "    </tr>\n",
              "  </thead>\n",
              "  <tbody>\n",
              "    <tr>\n",
              "      <th>0</th>\n",
              "      <td>Anyone know what movie this is?</td>\n",
              "      <td>2</td>\n",
              "    </tr>\n",
              "    <tr>\n",
              "      <th>1</th>\n",
              "      <td>The fact they're holding each other back while...</td>\n",
              "      <td>1</td>\n",
              "    </tr>\n",
              "    <tr>\n",
              "      <th>2</th>\n",
              "      <td>waiting next video will be?</td>\n",
              "      <td>2</td>\n",
              "    </tr>\n",
              "    <tr>\n",
              "      <th>3</th>\n",
              "      <td>Thanks for the great video.\\n\\nI don't underst...</td>\n",
              "      <td>2</td>\n",
              "    </tr>\n",
              "    <tr>\n",
              "      <th>4</th>\n",
              "      <td>Good person helping good people.\\nThis is how ...</td>\n",
              "      <td>1</td>\n",
              "    </tr>\n",
              "  </tbody>\n",
              "</table>\n",
              "</div>"
            ],
            "text/plain": [
              "                                         CommentText  Sentiment\n",
              "0                    Anyone know what movie this is?          2\n",
              "1  The fact they're holding each other back while...          1\n",
              "2                        waiting next video will be?          2\n",
              "3  Thanks for the great video.\\n\\nI don't underst...          2\n",
              "4  Good person helping good people.\\nThis is how ...          1"
            ]
          },
          "execution_count": 3,
          "metadata": {},
          "output_type": "execute_result"
        }
      ],
      "source": [
        "data = data[[\"CommentText\", \"Sentiment\"]]\n",
        "label_map = {\"Negative\": 0, \"Positive\": 1, \"Neutral\": 2}\n",
        "rev_map = {1: \"Positive\", 0: \"Negative\", 2: \"Neutral\"}\n",
        "data[\"Sentiment\"] = data[\"Sentiment\"].map(label_map)\n",
        "data.head()"
      ]
    },
    {
      "cell_type": "code",
      "execution_count": null,
      "id": "1b9485bf",
      "metadata": {
        "id": "1b9485bf",
        "outputId": "4ff2a500-dd6d-4dea-ee0d-aac0dd7a7d57"
      },
      "outputs": [
        {
          "name": "stdout",
          "output_type": "stream",
          "text": [
            "                                         CommentText  \\\n",
            "0                    Anyone know what movie this is?   \n",
            "1  The fact they're holding each other back while...   \n",
            "2                        waiting next video will be?   \n",
            "3  Thanks for the great video.\\n\\nI don't underst...   \n",
            "4  Good person helping good people.\\nThis is how ...   \n",
            "\n",
            "                                     cleaned_comment  \n",
            "0                     anyone know what movie this is  \n",
            "1  the fact theyre holding each other back while ...  \n",
            "2                         waiting next video will be  \n",
            "3  thanks for the great video i dont understand w...  \n",
            "4  good person helping good people this is how it...  \n"
          ]
        }
      ],
      "source": [
        "def clean_text(text):\n",
        "    if isinstance(text, str):\n",
        "        text = re.sub(r\"[^a-zA-Z0-9\\s]\", \"\", text)\n",
        "        text = text.lower()\n",
        "        text = re.sub(r\"http\\S+\", \"\", text)\n",
        "        text = re.sub(r\"@\\S+\", \"\", text)\n",
        "        text = text.translate(str.maketrans(\"\", \"\", string.punctuation))\n",
        "        text = text.replace(\"\\n\", \" \")\n",
        "        text = re.sub(r\"\\s+\", \" \", text).strip()\n",
        "\n",
        "    else:\n",
        "        text = \"\"\n",
        "    return text\n",
        "\n",
        "\n",
        "data[\"cleaned_comment\"] = data[\"CommentText\"].apply(clean_text)\n",
        "print(data[[\"CommentText\", \"cleaned_comment\"]].head())"
      ]
    },
    {
      "cell_type": "code",
      "execution_count": null,
      "id": "200b0964",
      "metadata": {
        "id": "200b0964",
        "outputId": "1e00549f-fc15-470c-ec18-809104d6b953"
      },
      "outputs": [
        {
          "data": {
            "text/html": [
              "<div>\n",
              "<style scoped>\n",
              "    .dataframe tbody tr th:only-of-type {\n",
              "        vertical-align: middle;\n",
              "    }\n",
              "\n",
              "    .dataframe tbody tr th {\n",
              "        vertical-align: top;\n",
              "    }\n",
              "\n",
              "    .dataframe thead th {\n",
              "        text-align: right;\n",
              "    }\n",
              "</style>\n",
              "<table border=\"1\" class=\"dataframe\">\n",
              "  <thead>\n",
              "    <tr style=\"text-align: right;\">\n",
              "      <th></th>\n",
              "      <th>Sentiment</th>\n",
              "      <th>cleaned_comment</th>\n",
              "    </tr>\n",
              "  </thead>\n",
              "  <tbody>\n",
              "    <tr>\n",
              "      <th>0</th>\n",
              "      <td>2</td>\n",
              "      <td>anyone know what movie this is</td>\n",
              "    </tr>\n",
              "    <tr>\n",
              "      <th>1</th>\n",
              "      <td>1</td>\n",
              "      <td>the fact theyre holding each other back while ...</td>\n",
              "    </tr>\n",
              "    <tr>\n",
              "      <th>2</th>\n",
              "      <td>2</td>\n",
              "      <td>waiting next video will be</td>\n",
              "    </tr>\n",
              "    <tr>\n",
              "      <th>3</th>\n",
              "      <td>2</td>\n",
              "      <td>thanks for the great video i dont understand w...</td>\n",
              "    </tr>\n",
              "    <tr>\n",
              "      <th>4</th>\n",
              "      <td>1</td>\n",
              "      <td>good person helping good people this is how it...</td>\n",
              "    </tr>\n",
              "  </tbody>\n",
              "</table>\n",
              "</div>"
            ],
            "text/plain": [
              "   Sentiment                                    cleaned_comment\n",
              "0          2                     anyone know what movie this is\n",
              "1          1  the fact theyre holding each other back while ...\n",
              "2          2                         waiting next video will be\n",
              "3          2  thanks for the great video i dont understand w...\n",
              "4          1  good person helping good people this is how it..."
            ]
          },
          "execution_count": 5,
          "metadata": {},
          "output_type": "execute_result"
        }
      ],
      "source": [
        "data = data.drop(\"CommentText\", axis=1)\n",
        "data = data.dropna()\n",
        "data.head()"
      ]
    },
    {
      "cell_type": "code",
      "execution_count": null,
      "id": "24194c6a",
      "metadata": {
        "id": "24194c6a"
      },
      "outputs": [],
      "source": [
        "texts = data[\"cleaned_comment\"].astype(str).tolist()\n",
        "labels = data[\"Sentiment\"].tolist()\n",
        "\n",
        "tokenized_texts = [text.lower().split() for text in texts]\n",
        "vocab = Counter(word for sent in tokenized_texts for word in sent)\n",
        "vocab = {word: idx + 2 for idx, (word, _) in enumerate(vocab.most_common(5000))}\n",
        "vocab[\"<PAD>\"] = 0\n",
        "vocab[\"<UNK>\"] = 1\n",
        "\n",
        "\n",
        "def encode(seq):\n",
        "    return [vocab.get(word, vocab[\"<UNK>\"]) for word in seq]\n",
        "\n",
        "\n",
        "encoded_texts = [torch.tensor(encode(seq)) for seq in tokenized_texts]\n",
        "padded_texts = pad_sequence(encoded_texts, batch_first=True, padding_value=0)\n",
        "labels_tensor = torch.tensor(labels)"
      ]
    },
    {
      "cell_type": "code",
      "execution_count": null,
      "id": "c2c62b7d",
      "metadata": {
        "id": "c2c62b7d"
      },
      "outputs": [],
      "source": [
        "label_encoder = LabelEncoder()\n",
        "labels = label_encoder.fit_transform(labels)\n",
        "num_classes = len(label_encoder.classes_)"
      ]
    },
    {
      "cell_type": "code",
      "execution_count": null,
      "id": "91bd737d",
      "metadata": {
        "id": "91bd737d"
      },
      "outputs": [],
      "source": [
        "# Split\n",
        "X_train, X_test, y_train, y_test = train_test_split(\n",
        "    padded_texts, labels_tensor, test_size=0.2, stratify=labels, random_state=42\n",
        ")\n",
        "\n",
        "\n",
        "# Dataset and DataLoader\n",
        "class LengthAwareDataset(Dataset):\n",
        "    def __init__(self, encoded_seqs, labels):\n",
        "        self.seqs = encoded_seqs\n",
        "        self.labels = labels\n",
        "\n",
        "    def __len__(self):\n",
        "        return len(self.seqs)\n",
        "\n",
        "    def __getitem__(self, idx):\n",
        "        return self.seqs[idx], self.labels[idx], len(self.seqs[idx])\n",
        "\n",
        "def collate_fn(batch):\n",
        "    batch.sort(key=lambda x: x[2], reverse=True)\n",
        "    seqs, labels, lengths = zip(*batch)\n",
        "    padded = pad_sequence(seqs, batch_first=True, padding_value=0)\n",
        "    return padded, torch.tensor(labels), torch.tensor(lengths)"
      ]
    },
    {
      "cell_type": "code",
      "execution_count": null,
      "id": "3842a4cb",
      "metadata": {
        "id": "3842a4cb"
      },
      "outputs": [],
      "source": [
        "train_dataset = LengthAwareDataset(X_train, y_train)\n",
        "test_dataset = LengthAwareDataset(X_test, y_test)\n",
        "train_loader = DataLoader(\n",
        "    train_dataset, batch_size=256, shuffle=True, collate_fn=collate_fn\n",
        ")\n",
        "test_loader = DataLoader(test_dataset, batch_size=256, collate_fn=collate_fn)"
      ]
    },
    {
      "cell_type": "code",
      "execution_count": null,
      "id": "3d4dd9bc",
      "metadata": {
        "id": "3d4dd9bc"
      },
      "outputs": [],
      "source": [
        "device = torch.device(\"cuda\" if torch.cuda.is_available() else \"cpu\")"
      ]
    },
    {
      "cell_type": "code",
      "execution_count": null,
      "id": "e224a09e",
      "metadata": {
        "id": "e224a09e"
      },
      "outputs": [],
      "source": [
        "class LSTM(nn.Module):\n",
        "    def __init__(\n",
        "        self, vocab_size, embed_dim, hidden_dim, num_classes, dropout_rate=0.3\n",
        "    ):\n",
        "        super().__init__()\n",
        "        self.embedding = nn.Embedding(vocab_size, embed_dim, padding_idx=0)\n",
        "        self.lstm = nn.LSTM(embed_dim, hidden_dim, batch_first=True, bidirectional=True)\n",
        "        self.dropout = nn.Dropout(dropout_rate)\n",
        "        self.fc1 = nn.Linear(hidden_dim * 2, 64)  # bidirectional doubles the hidden_dim\n",
        "        self.relu = nn.ReLU()\n",
        "        self.fc2 = nn.Linear(64, num_classes)\n",
        "\n",
        "    def forward(self, x, lengths):\n",
        "        embedded = self.embedding(x)\n",
        "        packed = pack_padded_sequence(\n",
        "            embedded, lengths, batch_first=True, enforce_sorted=False\n",
        "        )\n",
        "        packed_output, (h_n, _) = self.lstm(packed)\n",
        "        h_n = torch.cat(\n",
        "            (h_n[-2, :, :], h_n[-1, :, :]), dim=1\n",
        "        )  # concatenate last hidden states (bi-directional)\n",
        "        out = self.dropout(h_n)\n",
        "        out = self.relu(self.fc1(out))\n",
        "        return self.fc2(out)"
      ]
    },
    {
      "cell_type": "code",
      "execution_count": null,
      "id": "a55616c2",
      "metadata": {
        "id": "a55616c2"
      },
      "outputs": [],
      "source": [
        "lstm = LSTM(len(vocab), embed_dim=64, hidden_dim=128, num_classes=num_classes).to(\n",
        "    device\n",
        ")\n",
        "lstm_criterion = nn.CrossEntropyLoss()\n",
        "lstm_optimizer = optim.Adam(lstm.parameters(), lr=1e-3)"
      ]
    },
    {
      "cell_type": "code",
      "execution_count": null,
      "id": "1e7453c9",
      "metadata": {
        "id": "1e7453c9"
      },
      "outputs": [],
      "source": [
        "train_acc, val_acc = [], []"
      ]
    },
    {
      "cell_type": "code",
      "execution_count": null,
      "id": "8533b1a5",
      "metadata": {
        "id": "8533b1a5"
      },
      "outputs": [],
      "source": [
        "for epoch in range(10):\n",
        "    lstm.train()\n",
        "    all_preds, all_labels = [], []\n",
        "    for X_batch, y_batch, lengths in train_loader:\n",
        "        X_batch, y_batch = X_batch.to(device), y_batch.to(device)\n",
        "        lengths = lengths.to(device)\n",
        "        lstm_optimizer.zero_grad()\n",
        "        out = lstm(X_batch, lengths.cpu())\n",
        "        loss = lstm_criterion(out, y_batch)\n",
        "        loss.backward()\n",
        "        lstm_optimizer.step()\n",
        "        all_preds.extend(out.argmax(1).cpu().numpy())\n",
        "        all_labels.extend(y_batch.cpu().numpy())\n",
        "    acc = accuracy_score(all_labels, all_preds)\n",
        "    train_acc.append(acc)\n",
        "\n",
        "    # Validation\n",
        "    lstm.eval()\n",
        "    all_preds, all_labels = [], []\n",
        "    with torch.no_grad():\n",
        "        for X_batch, y_batch, lengths in test_loader:\n",
        "            X_batch, y_batch = X_batch.to(device), y_batch.to(device)\n",
        "            lengths = lengths.to(device)\n",
        "            out = lstm(X_batch, lengths.cpu())\n",
        "            all_preds.extend(out.argmax(1).cpu().numpy())\n",
        "            all_labels.extend(y_batch.cpu().numpy())\n",
        "    val_acc.append(accuracy_score(all_labels, all_preds))\n",
        "    print(\n",
        "        f\"Epoch {epoch+1} - Train Acc: {train_acc[-1]:.4f}, Val Acc: {val_acc[-1]:.4f}\"\n",
        "    )"
      ]
    }
  ],
  "metadata": {
    "kernelspec": {
      "display_name": "radar",
      "language": "python",
      "name": "python3"
    },
    "language_info": {
      "codemirror_mode": {
        "name": "ipython",
        "version": 3
      },
      "file_extension": ".py",
      "mimetype": "text/x-python",
      "name": "python",
      "nbconvert_exporter": "python",
      "pygments_lexer": "ipython3",
      "version": "3.11.9"
    },
    "colab": {
      "provenance": []
    }
  },
  "nbformat": 4,
  "nbformat_minor": 5
}